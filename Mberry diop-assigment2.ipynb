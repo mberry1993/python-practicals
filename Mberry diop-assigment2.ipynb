{
 "cells": [
  {
   "cell_type": "code",
   "execution_count": 7,
   "metadata": {},
   "outputs": [
    {
     "name": "stdout",
     "output_type": "stream",
     "text": [
      "Enter x = 2\n",
      "Enter y = 3\n",
      "la valeur numerique est:  7.231609394713589\n"
     ]
    }
   ],
   "source": [
    "import math\n",
    "def num():\n",
    "    x=int(input(\"Enter x = \"))\n",
    "    y=int(input(\"Enter y = \"))\n",
    "    f= math.sqrt(x**(2+y))/(1/x + 2*math.sin(y))\n",
    "    print(\"la valeur numerique est: \", f)\n",
    "    return \n",
    "num()\n",
    "            "
   ]
  },
  {
   "cell_type": "code",
   "execution_count": 10,
   "metadata": {},
   "outputs": [
    {
     "name": "stdout",
     "output_type": "stream",
     "text": [
      "donner un entier b = 2\n",
      "donner une valeur positive de n  = 6\n",
      "la valeur de  2 power 6 est 64\n"
     ]
    }
   ],
   "source": [
    "def ownpowerfnpy():\n",
    "    b=int(input(\"donner un entier b = \"))\n",
    "    n=int(input(\"donner une valeur positive de n  = \"))\n",
    "    if (n>0):\n",
    "        i=1\n",
    "        f=b\n",
    "        while (i<n):\n",
    "            f*=b\n",
    "            i+=1\n",
    "        print(\"la valeur de \", b,\"power\",n, \"est\", f) \n",
    "    else:    \n",
    "        return \n",
    "ownpowerfnpy()"
   ]
  },
  {
   "cell_type": "code",
   "execution_count": 11,
   "metadata": {},
   "outputs": [
    {
     "name": "stdout",
     "output_type": "stream",
     "text": [
      "arithmetic mean est  2.5\n"
     ]
    }
   ],
   "source": [
    "def arithmetic_mean(x, y):\n",
    "    m=(x+y)/2\n",
    "    print(\"arithmetic mean est \", m)\n",
    "    return\n",
    "arithmetic_mean(2,3)"
   ]
  },
  {
   "cell_type": "code",
   "execution_count": 12,
   "metadata": {},
   "outputs": [
    {
     "name": "stdout",
     "output_type": "stream",
     "text": [
      "geometric mean est  2.449489742783178\n"
     ]
    }
   ],
   "source": [
    "def geometric_mean(x, y):\n",
    "    h=(x*y)**(1/2)\n",
    "    print(\"geometric mean est \", h)\n",
    "    return\n",
    "geometric_mean(2,3)"
   ]
  },
  {
   "cell_type": "code",
   "execution_count": 13,
   "metadata": {},
   "outputs": [
    {
     "name": "stdout",
     "output_type": "stream",
     "text": [
      "30 Celsius egal a 86.0 Fahrenheit\n"
     ]
    }
   ],
   "source": [
    "def celsius_to_fahrenheit(x):\n",
    "    y=(9/5)*x + 32\n",
    "    print(x, \"Celsius egal a\", y, \"Fahrenheit\")\n",
    "    return\n",
    "celsius_to_fahrenheit(30)"
   ]
  },
  {
   "cell_type": "code",
   "execution_count": 14,
   "metadata": {},
   "outputs": [
    {
     "name": "stdout",
     "output_type": "stream",
     "text": [
      "72 Fahrenheit egal a  22.22222222222222 Celsius\n"
     ]
    }
   ],
   "source": [
    "def fahrenheit_to_celsius(x):\n",
    "    y=(5/9)*(x-32)\n",
    "    print(x, \"Fahrenheit egal a \", y, \"Celsius\")\n",
    "    return\n",
    "fahrenheit_to_celsius(72)"
   ]
  },
  {
   "cell_type": "code",
   "execution_count": 17,
   "metadata": {},
   "outputs": [
    {
     "name": "stdout",
     "output_type": "stream",
     "text": [
      "la circonference du circle en radius r = 8 is p = 50.26548245743669\n"
     ]
    }
   ],
   "source": [
    "import math\n",
    "def circonference(r):\n",
    "    p=2*math.pi*r\n",
    "    print(\"la circonference du circle en radius r =\", r, \"is p =\", p)\n",
    "    return\n",
    "circonference(8)"
   ]
  },
  {
   "cell_type": "code",
   "execution_count": 2,
   "metadata": {},
   "outputs": [
    {
     "name": "stdout",
     "output_type": "stream",
     "text": [
      "The distance between ( 1 , -3 ) et ( 3 , 8 ) is  11.180339887498949\n"
     ]
    }
   ],
   "source": [
    "import math\n",
    "def distance(x1,x2,y1,y2):\n",
    "    d=math.sqrt((x2-x1)**2+(y2-y1)**2)\n",
    "    print(\"The distance between (\",x1, \",\", y1, \") et (\",x2, \",\", y2, \") is \", d)\n",
    "    return\n",
    "distance(1,3,-3,8)\n"
   ]
  },
  {
   "cell_type": "code",
   "execution_count": 4,
   "metadata": {},
   "outputs": [
    {
     "data": {
      "text/plain": [
       "-125"
      ]
     },
     "execution_count": 4,
     "metadata": {},
     "output_type": "execute_result"
    }
   ],
   "source": [
    "def power(x, n):\n",
    "    i=1\n",
    "    if (n==0):\n",
    "        return 1\n",
    "    if (n>0):\n",
    "        for j in range(abs(n)):\n",
    "            i=i*x\n",
    "        return i\n",
    "    else:\n",
    "        return 1/i\n",
    "power(-5,3)    "
   ]
  },
  {
   "cell_type": "code",
   "execution_count": null,
   "metadata": {},
   "outputs": [],
   "source": []
  }
 ],
 "metadata": {
  "kernelspec": {
   "display_name": "Python 3",
   "language": "python",
   "name": "python3"
  },
  "language_info": {
   "codemirror_mode": {
    "name": "ipython",
    "version": 3
   },
   "file_extension": ".py",
   "mimetype": "text/x-python",
   "name": "python",
   "nbconvert_exporter": "python",
   "pygments_lexer": "ipython3",
   "version": "3.7.3"
  }
 },
 "nbformat": 4,
 "nbformat_minor": 2
}
