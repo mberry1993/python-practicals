{
 "cells": [
  {
   "cell_type": "markdown",
   "metadata": {
    "id": "QYZn2ujP9tcA"
   },
   "source": [
    "\n",
    "\n",
    "    \n",
    "#    <center> <b> <span style=\"color:orange;\" >  `Python for Scientific Computing and Software Engineering ` </span> </b></center>\n",
    "\n",
    "\n",
    "## <center> <b> <span style=\"color:orange;\"> An Initiation to Programming using Python (Init2Py) </span> </b></center>\n",
    "\n",
    "### <center> <b> <span style=\"color:blue;\"> Travaux Pratiques: Fonctions</span> </b></center>\n",
    "\n"
   ]
  },
  {
   "cell_type": "markdown",
   "metadata": {
    "id": "iMDzVKcl9tcE"
   },
   "source": [
    "#### **Exercice 00:**  \n",
    "> **Écrire une fonction `cube` qui retourne le cube de son argument.**"
   ]
  },
  {
   "cell_type": "code",
   "execution_count": 1,
   "metadata": {
    "id": "EbftYW1V9tcF"
   },
   "outputs": [],
   "source": [
    "def cube(a):\n",
    "    s = a**3\n",
    "    print(s)\n",
    "    "
   ]
  },
  {
   "cell_type": "markdown",
   "metadata": {
    "id": "m1ac89qS9tcH"
   },
   "source": [
    "#### **Exercice 01:**  \n",
    "> **Déclarez une fonction `ajouter_deux_nombres`. Elle prend deux paramètres et renvoie leur somme.**"
   ]
  },
  {
   "cell_type": "code",
   "execution_count": 4,
   "metadata": {
    "id": "E_AgGmNy9tcH"
   },
   "outputs": [],
   "source": [
    "def som(a,b):\n",
    "    c=a+b\n",
    "    print(c)"
   ]
  },
  {
   "cell_type": "markdown",
   "metadata": {
    "id": "PKjvAV4y9tcJ"
   },
   "source": [
    "#### **Exercice 02:**  \n",
    "> **L'aire d'un cercle se calcule comme suit : aire = pi x r x r avec pi=3,14. Écrivez une fonction `aire_du_cercle` qui prend le rayon en argument et calcule l'aire du cercle correspodant.**"
   ]
  },
  {
   "cell_type": "code",
   "execution_count": 6,
   "metadata": {
    "id": "AxGzHKXX9tcL"
   },
   "outputs": [],
   "source": [
    "def aire_du_cercle():\n",
    "    r = int(input(\"Donner le rayon du cercle\"))\n",
    "    pi = 3.14\n",
    "    aire = pi*r*r\n",
    "    print(\"l'aire du cercle est :\",aire,\"m^2\")"
   ]
  },
  {
   "cell_type": "markdown",
   "metadata": {
    "id": "6OBRL3oj9tcL"
   },
   "source": [
    "#### **Exercice 03:**  \n",
    "> **La température en °C peut être convertie en °F à l'aide de cette formule : °F = (°C x 9/5) + 32. Écrivez une fonction `convert_celsius_en_fahrenheit` qui convertit les °C en °F**."
   ]
  },
  {
   "cell_type": "code",
   "execution_count": 7,
   "metadata": {
    "id": "LpDPEBxn9tcN"
   },
   "outputs": [],
   "source": [
    "def convert_celsius_en_fahrenheit():\n",
    "    TC = int(input(\"Donner la temperature en °C :\"))\n",
    "    F = (TC*9/5)+32\n",
    "    print(\"la temperature en degre Fahrenheit vaut :\",F)"
   ]
  },
  {
   "cell_type": "markdown",
   "metadata": {
    "id": "rJRPsZ2h9tcP"
   },
   "source": [
    "#### **Exercice 04:** \n",
    ">**Écrire une fonction somme avec un argument « tuple de longueur variable » qui calcule la somme des nombres contenus dans le tuple.Tester cette fonction par des appels avec différents tuples d’entiers ou de flottants.**"
   ]
  },
  {
   "cell_type": "code",
   "execution_count": 8,
   "metadata": {
    "id": "7qn8Czdc9tcP"
   },
   "outputs": [],
   "source": [
    "def somme():\n",
    "    s = input(\"Donner les valeurs des nombres du tuple\")\n",
    "    t = tuple(int(s[i]) for i in range(len(s)))\n",
    "    print(t)\n",
    "    print(\"La somme des nombres contenus dans le tuple est :\",sum(t))"
   ]
  },
  {
   "cell_type": "markdown",
   "metadata": {
    "id": "kls1kYNh9tcR"
   },
   "source": [
    "#### **Exercice 05:** \n",
    ">**Ecrire `somme_liste` qui calcule la somme des nombres contenus dans une liste.Tester cette fonction par des appels avec différents listes d’entiers ou de flottants.**"
   ]
  },
  {
   "cell_type": "code",
   "execution_count": 9,
   "metadata": {
    "id": "khKG2ee49tcS"
   },
   "outputs": [],
   "source": [
    "def somme_liste():\n",
    "    s = input(\"Donner les  nombres contenus dans la liste.\")\n",
    "    t = list(int(s[i]) for i in range(len(s)))\n",
    "    print(t)\n",
    "    print(\"La somme des nombres contenus dans la liste est :\",sum(t))\n",
    "    "
   ]
  },
  {
   "cell_type": "markdown",
   "metadata": {
    "id": "l4gQECfk9tcS"
   },
   "source": [
    "#### **Exercice 06:** \n",
    ">**Écrire une fonction somme qui  prend en argument un entier $n$ et retourne la somme  des $n$-prémiers entiers naturels.**"
   ]
  },
  {
   "cell_type": "code",
   "execution_count": 14,
   "metadata": {
    "id": "KfbcZiGS9tcT"
   },
   "outputs": [],
   "source": [
    "def som():\n",
    "    n = int(input(\"Donner la valeur de n :\"))\n",
    "    S = [i for i in range(n+1)]\n",
    "    print(som(S))"
   ]
  },
  {
   "cell_type": "markdown",
   "metadata": {
    "id": "tK9EsjZf9tcU"
   },
   "source": [
    "#### **Exercice 07:** \n",
    ">**Écrire une fonction `nom` qui demande à l'utilisateur d'entrer son nom ensuite son prénom et affiche son prénom suivit de son nom.**"
   ]
  },
  {
   "cell_type": "code",
   "execution_count": 13,
   "metadata": {
    "id": "REF7Fa939tcW"
   },
   "outputs": [],
   "source": [
    "def nom():\n",
    "    n = input('Donner votre nom :')\n",
    "    m = input('Donner votre prenom :')\n",
    "    print (m,n)"
   ]
  },
  {
   "cell_type": "markdown",
   "metadata": {
    "id": "YSwrwcEz9tcX"
   },
   "source": [
    "#### **Exercice 08:** \n",
    ">**Écrire une fonction `nom` qui demande à l'utilisateur d'entrer son nom ensuite son prénom et affiche son prénom suivit de son nom.**"
   ]
  },
  {
   "cell_type": "code",
   "execution_count": 10,
   "metadata": {
    "id": "mRk-8h1P9tcZ"
   },
   "outputs": [],
   "source": [
    "def nom():\n",
    "    a = input('Donner votre nom :')\n",
    "    b = input('Donner votre prenom :')\n",
    "    print (b,a)"
   ]
  },
  {
   "cell_type": "markdown",
   "metadata": {
    "id": "VYtzHXAd9tck"
   },
   "source": [
    "#### **Exercice 09:** \n",
    ">**Ecris une fonction `Maximum` qui renvoie le minimum de trois nombres.**"
   ]
  },
  {
   "cell_type": "code",
   "execution_count": 11,
   "metadata": {
    "id": "A4tQ-qQQ9tcl"
   },
   "outputs": [],
   "source": [
    "def max(m,n,o):\n",
    "    max = 0\n",
    "    if(m > n):\n",
    "        max = m\n",
    "    else:\n",
    "        max = n\n",
    "    if(max < o):\n",
    "            max = o\n",
    "    else:\n",
    "        max = max\n",
    "    print(\"Le maximum des trois nombre est : max(m,n,o) = \", max)"
   ]
  },
  {
   "cell_type": "markdown",
   "metadata": {
    "id": "gTpTAnGm9tcm"
   },
   "source": [
    "#### **Exercice 10:**\n",
    ">**Soit $f(x)=ax^2+bx+c$ un trinôme du second degré.**\n",
    " 1. **Ecris une fonction `Discriminant` qui calcule son discriminant.**\n",
    " 2. **Ecris ensuite une fonction `existence_des_racines_du_trinome` qui discute suivant les valeurs du discriminant, l'existence de ses racines.** \n"
   ]
  },
  {
   "cell_type": "markdown",
   "metadata": {
    "id": "WgJ06GHA9tcn"
   },
   "source": [
    "#### **Exercice 11:**\n",
    ">**Ecris une fonction qui affiche le reste de la division euclidienne d'un entier naturel $a$ par un entier naturel $b$**.\n"
   ]
  },
  {
   "cell_type": "code",
   "execution_count": 12,
   "metadata": {
    "id": "S1uM-Jca9tcn"
   },
   "outputs": [],
   "source": [
    "def reste(a,b):\n",
    "    print('le reste de la division euclidienne de a par b est:',a%b)"
   ]
  },
  {
   "cell_type": "markdown",
   "metadata": {
    "id": "dtC_cOVJ9tco"
   },
   "source": [
    "#### **Exercice 12:**\n",
    ">**Ecris une fonction `terme_suite_geometrique` qui affiche le n-ième terme d'une suite géométrique $(v_n)$ de premier terme $v_0$ et de raison $q$. Teste ce programme pour $v_0=2, q=3$ et $n=4$.**"
   ]
  },
  {
   "cell_type": "code",
   "execution_count": null,
   "metadata": {
    "id": "TeLDRV8N9tco"
   },
   "outputs": [],
   "source": []
  },
  {
   "cell_type": "markdown",
   "metadata": {
    "id": "GrmGuHwu9tco"
   },
   "source": [
    "#### **Exercice 13:**\n",
    ">**Écris une fonction `merci` prend en paramètre un `nom` et renvoie le message \"Merci pour votre présence à cet atelier,`nom`.**\n"
   ]
  },
  {
   "cell_type": "code",
   "execution_count": 15,
   "metadata": {
    "id": "NJ0z0iht9tco"
   },
   "outputs": [],
   "source": [
    "def merci():\n",
    "    n = input(\"Donner votre nom\")\n",
    "    print(\"Merci pour votre présence à cet atelier\",n)\n",
    "    "
   ]
  },
  {
   "cell_type": "markdown",
   "metadata": {
    "id": "T3jopRLc9tco"
   },
   "source": [
    "#### **Exercice 14:**\n",
    ">**Écris une fonction `ma_suite` qui définit la suite $(u_n)$ telle que  $$u_{n}=\\frac{2n^2+3n-1}{n+6}.$$\n",
    "Affiche son 5e terme.**\n"
   ]
  },
  {
   "cell_type": "code",
   "execution_count": null,
   "metadata": {
    "id": "P1l82riw9tcp"
   },
   "outputs": [],
   "source": []
  },
  {
   "cell_type": "markdown",
   "metadata": {
    "id": "SIizzU_A9tcp"
   },
   "source": [
    "\n",
    "\n",
    "<center> <b> <span style=\"color:orange;\"> 🎉 FÉLICITATIONS ! 🎉 </span> </b></center>"
   ]
  }
 ],
 "metadata": {
  "colab": {
   "name": "Exercices_04_Fonctions.ipynb",
   "provenance": []
  },
  "kernelspec": {
   "display_name": "Python 3",
   "language": "python",
   "name": "python3"
  },
  "language_info": {
   "codemirror_mode": {
    "name": "ipython",
    "version": 3
   },
   "file_extension": ".py",
   "mimetype": "text/x-python",
   "name": "python",
   "nbconvert_exporter": "python",
   "pygments_lexer": "ipython3",
   "version": "3.7.3"
  }
 },
 "nbformat": 4,
 "nbformat_minor": 5
}
