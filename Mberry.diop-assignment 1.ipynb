{
 "cells": [
  {
   "cell_type": "code",
   "execution_count": 1,
   "metadata": {},
   "outputs": [
    {
     "name": "stdout",
     "output_type": "stream",
     "text": [
      "entrer un entier: 2\n",
      "la somme vaut:  4\n"
     ]
    }
   ],
   "source": [
    "n=int(input(\"entrer un entier: \"))\n",
    "s=0\n",
    "for i in range(1,n):\n",
    "    if (i%2!=0):\n",
    "        s=s+(i+3)\n",
    "print(\"la somme vaut: \", s)"
   ]
  },
  {
   "cell_type": "code",
   "execution_count": 2,
   "metadata": {},
   "outputs": [
    {
     "name": "stdout",
     "output_type": "stream",
     "text": [
      "entrer un entier: 5\n",
      "le produit vaut:  35\n"
     ]
    }
   ],
   "source": [
    "n=int(input(\"entrer un entier: \"))\n",
    "p=1\n",
    "for i in range(1,n):\n",
    "    if (i%2==0):\n",
    "        p=p*(i+3)\n",
    "print(\"le produit vaut: \",p)"
   ]
  },
  {
   "cell_type": "code",
   "execution_count": 26,
   "metadata": {},
   "outputs": [
    {
     "name": "stdout",
     "output_type": "stream",
     "text": [
      "entrer le numero du jour de la semaine (de 0 a 6)5\n",
      "on est monday\n"
     ]
    }
   ],
   "source": [
    "x=[\"monday\",\"tuesday\",\"wednesday\",\"thursday\",\"friday\"]\n",
    "n=int(input(\"entrer le numero du jour de la semaine (de 0 a 6)\"))\n",
    "for n in range(0,6):\n",
    "    if (n==0):\n",
    "        print(\"on est\",x[0])\n",
    "        break\n",
    "    elif(n==1):\n",
    "        print(\"on est\",x[1])\n",
    "        break\n",
    "    elif (n==2):\n",
    "        print(\"on est\",x[2])\n",
    "        break\n",
    "    elif (n==3):\n",
    "        print(\"on est\",x[3])\n",
    "        break \n",
    "    elif (n==4):\n",
    "        print(\"on est\",x[4])\n",
    "        break\n",
    "    elif (n==5):\n",
    "        print(\"on est\",x[5])\n",
    "        break\n",
    "    elif (n==6):\n",
    "        print(\"on est\",x[6])\n",
    "        break\n",
    "    else:\n",
    "        print(\"ecrit le mot\",\"week-end\")"
   ]
  },
  {
   "cell_type": "code",
   "execution_count": null,
   "metadata": {},
   "outputs": [],
   "source": []
  },
  {
   "cell_type": "code",
   "execution_count": 54,
   "metadata": {},
   "outputs": [
    {
     "name": "stdout",
     "output_type": "stream",
     "text": [
      "diop\n",
      "diop\n",
      "diop\n"
     ]
    }
   ],
   "source": [
    "nom=\"diop\"\n",
    "i=1\n",
    "while i<=3:\n",
    "    print(nom)\n",
    "    i=i+1"
   ]
  },
  {
   "cell_type": "code",
   "execution_count": 55,
   "metadata": {},
   "outputs": [
    {
     "name": "stdout",
     "output_type": "stream",
     "text": [
      "diop\n",
      "diop\n",
      "diop\n"
     ]
    }
   ],
   "source": [
    "nom=\"diop\"\n",
    "i=1\n",
    "for i in range(0,3):\n",
    "    print(nom)\n",
    "    i=i+1"
   ]
  },
  {
   "cell_type": "code",
   "execution_count": 6,
   "metadata": {},
   "outputs": [
    {
     "name": "stdout",
     "output_type": "stream",
     "text": [
      "3  est multiple de de 3: \n",
      "6  est multiple de de 3: \n",
      "7  est multiple de de 7: \n",
      "9  est multiple de de 3: \n",
      "11  est multiple de de 11: \n",
      "12  est multiple de de 3: \n",
      "14  est multiple de de 7: \n",
      "15  est multiple de de 3: \n",
      "18  est multiple de de 3: \n",
      "21  est multiple de de 3: \n",
      "22  est multiple de de 11: \n",
      "24  est multiple de de 3: \n",
      "27  est multiple de de 3: \n",
      "28  est multiple de de 7: \n",
      "30  est multiple de de 3: \n",
      "33  est multiple de de 3: \n",
      "35  est multiple de de 7: \n",
      "36  est multiple de de 3: \n",
      "39  est multiple de de 3: \n"
     ]
    }
   ],
   "source": [
    "i=1\n",
    "while i<=40:\n",
    "    if(i%3==0):\n",
    "        print(i,\"  est multiple de de 3: \",sep=\"\")\n",
    "    elif(i%7==0):\n",
    "        print(i,\"  est multiple de de 7: \",sep=\"\")\n",
    "        \n",
    "    elif(i%11==0):\n",
    "        print(i,\"  est multiple de de 11: \",sep=\"\")\n",
    "    i=i+1"
   ]
  },
  {
   "cell_type": "code",
   "execution_count": 12,
   "metadata": {},
   "outputs": [
    {
     "name": "stdout",
     "output_type": "stream",
     "text": [
      "donner:, x: 5.145\n",
      "5\n"
     ]
    }
   ],
   "source": [
    "from math import*\n",
    "n=float(input(\"donner:, x: \"))\n",
    "Emoins1=floor(n-1)\n",
    "E=1+Emoins1\n",
    "print(E)"
   ]
  },
  {
   "cell_type": "code",
   "execution_count": 13,
   "metadata": {},
   "outputs": [
    {
     "name": "stdout",
     "output_type": "stream",
     "text": [
      "entrer un nombre:2\n",
      "Mars 30\n"
     ]
    }
   ],
   "source": [
    "x=[\"Janvier 31\",\"Fevier 28\",\"Mars 30\",\"Avril 31\",\"Mai 30\",\"Juin 31\",\"Juillet 31\",\"Aout 30\",\"Septembre 31\",\"Octobre 30\",\"Novembre 30\",\"Decembre 31\"]\n",
    "n=int(input(\"entrer un nombre:\"))\n",
    "print(x[n])"
   ]
  },
  {
   "cell_type": "code",
   "execution_count": 19,
   "metadata": {},
   "outputs": [
    {
     "name": "stdout",
     "output_type": "stream",
     "text": [
      "entrer un nombre naturel:12\n",
      "1  est le diviseur de : 12\n",
      "2  est le diviseur de : 12\n",
      "3  est le diviseur de : 12\n",
      "4  est le diviseur de : 12\n",
      "6  est le diviseur de : 12\n",
      "12  est le diviseur de : 12\n"
     ]
    }
   ],
   "source": [
    "n=int(input(\"entrer un nombre naturel:\"))\n",
    "for i in range(1,n+1):\n",
    "    if(n%i==0):\n",
    "        print(i,\" est le diviseur de :\",n)"
   ]
  },
  {
   "cell_type": "code",
   "execution_count": null,
   "metadata": {},
   "outputs": [],
   "source": []
  }
 ],
 "metadata": {
  "kernelspec": {
   "display_name": "Python 3",
   "language": "python",
   "name": "python3"
  },
  "language_info": {
   "codemirror_mode": {
    "name": "ipython",
    "version": 3
   },
   "file_extension": ".py",
   "mimetype": "text/x-python",
   "name": "python",
   "nbconvert_exporter": "python",
   "pygments_lexer": "ipython3",
   "version": "3.7.3"
  }
 },
 "nbformat": 4,
 "nbformat_minor": 2
}
